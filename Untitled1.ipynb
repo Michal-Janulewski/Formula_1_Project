{
  "nbformat": 4,
  "nbformat_minor": 0,
  "metadata": {
    "colab": {
      "provenance": [],
      "toc_visible": true,
      "authorship_tag": "ABX9TyOhNJsopEb4izIOYamgXhh4",
      "include_colab_link": true
    },
    "kernelspec": {
      "name": "python3",
      "display_name": "Python 3"
    },
    "language_info": {
      "name": "python"
    }
  },
  "cells": [
    {
      "cell_type": "markdown",
      "metadata": {
        "id": "view-in-github",
        "colab_type": "text"
      },
      "source": [
        "<a href=\"https://colab.research.google.com/github/Michal-Janulewski/Formula_1_Project/blob/main/Untitled1.ipynb\" target=\"_parent\"><img src=\"https://colab.research.google.com/assets/colab-badge.svg\" alt=\"Open In Colab\"/></a>"
      ]
    },
    {
      "cell_type": "code",
      "execution_count": 5,
      "metadata": {
        "id": "eTBwZTzgK2vR"
      },
      "outputs": [],
      "source": [
        "import openpyxl as openpyxl\n",
        "import pandas as pd\n",
        "import matplotlib.pyplot as plt\n",
        "import numpy as np\n",
        "\n",
        "drivers = pd.read_excel(\"drivers.xlsx\")\n",
        "circuits = pd.read_excel(\"circuits.xlsx\")\n",
        "constructor_standings = pd.read_excel(\"constructor_standings.xlsx\")\n",
        "constructor = pd.read_excel(\"constructors.xlsx\")\n",
        "results = pd.read_excel(\"results.xlsx\")\n",
        "races = pd.read_excel(\"races.xlsx\")\n",
        "season = pd.read_excel(\"seasons.xlsx\")\n",
        "status = pd.read_excel(\"status.xlsx\")"
      ]
    },
    {
      "cell_type": "code",
      "source": [
        "races_per_season = races.groupby(\"Year\")[\"Race_Id\"].count().reset_index()\n",
        "\n",
        "Year = races_per_season[\"Year\"]\n",
        "Num_races_in_season = races_per_season[\"Race_Id\"]\n",
        "\n",
        "plt.plot(Year, Num_races_in_season, color=\"green\")\n",
        "\n",
        "plt.ylabel(\"Number of races in season\", fontsize=14)\n",
        "\n",
        "plt.xlabel(\"Year\", fontsize=14)\n",
        "\n",
        "plt.title(\"Number of F1 races according to season\", fontsize=16)\n",
        "\n",
        "plt.grid(axis=\"y\")\n",
        "\n",
        "plt.show()"
      ],
      "metadata": {
        "id": "WlGXf373L0sK"
      },
      "execution_count": null,
      "outputs": []
    },
    {
      "cell_type": "code",
      "source": [
        "races_per_country = circuits.merge(races, left_on=\"Circuit_ID\", right_on=\"Circuit_Id\", how=\"inner\")\n",
        "\n",
        "races_per_country_sort = races_per_country.groupby(\"Country\", as_index=False)[\"Race_Id\"].count().\\\n",
        "   rename(columns={\"Race_Id\": \"Num_race_country\"}).sort_values(\"Num_race_country\")\n",
        "\n",
        "x = races_per_country_sort[\"Country\"]\n",
        "y = races_per_country_sort[\"Num_race_country\"]\n",
        "\n",
        "plt.figure(figsize=(17, 8))\n",
        "\n",
        "plt.barh(x, y, height=0.82, color=\"green\", alpha=0.8)\n",
        "\n",
        "plt.xlabel(\"Number of races\", fontsize=14)\n",
        "\n",
        "plt.title(\"Number of F1 races according to country\", fontsize=16)\n",
        "\n",
        "plt.grid(axis=\"x\")\n",
        "\n",
        "plt.show()"
      ],
      "metadata": {
        "id": "X0naQEF9MlDe"
      },
      "execution_count": null,
      "outputs": []
    },
    {
      "cell_type": "code",
      "source": [
        "drivers_by_country = pd.DataFrame(drivers.groupby(\"Nationality\", as_index=False)[\"Driver_Id\"] \\\n",
        "                                 .count().rename(columns={\"Driver_Id\": \"Num_driver\"}).sort_values(\"Num_driver\",\n",
        "                                                                                                  ascending=False))\n",
        "all_drivers = drivers_by_country[\"Num_driver\"].sum()\n",
        "drivers_by_country_percent = pd.DataFrame((drivers_by_country[\"Num_driver\"] / all_drivers) * 100).\\\n",
        "   rename(columns={\"Driver_Id\": \"Num_driver\"})\n",
        "top_6_nationality = drivers_by_country_percent.nlargest(columns=\"Num_driver\", n=6)\n",
        "\n",
        "plt.figure(figsize=(8, 6))\n",
        "\n",
        "percent = top_6_nationality[\"Num_driver\"]\n",
        "nationality = drivers_by_country[\"Nationality\"].head(6)\n",
        "\n",
        "plt.pie(percent,\n",
        "       labels = nationality,\n",
        "       startangle = 0,\n",
        "       # shadow = True,\n",
        "       explode = (0.050,0,0,0,0,0),\n",
        "       autopct = '%1.1f%%')\n",
        "\n",
        "plt.show()"
      ],
      "metadata": {
        "id": "s986Lww8M1DE"
      },
      "execution_count": null,
      "outputs": []
    },
    {
      "cell_type": "code",
      "source": [
        "results_driver = results.merge(drivers, on = \"Driver_Id\")\n",
        "\n",
        "PP_wins_by_driver = pd.DataFrame(results_driver.groupby(\"Name\")[[\"Wins\", \"Pole_Position\"]].count())\n",
        "PP_wins_by_driver_sort = PP_wins_by_driver.sort_values(\"Wins\", ascending=False)\n",
        "\n",
        "PP_wins_by_driver_sort.head(10).sort_values(\"Wins\", ascending = True).plot(kind = \"barh\",\n",
        "                               xlabel = \"Number of race wins and pole positions\", ylabel = \"Driver\",\n",
        "                               title = \"Top 10 Drivers according to number of race wins\",\n",
        "                               color = [\"green\", \"orange\"])\n",
        "plt.show()"
      ],
      "metadata": {
        "id": "5u0oRoo6NBYz"
      },
      "execution_count": null,
      "outputs": []
    },
    {
      "cell_type": "code",
      "source": [
        "driver_result = results.merge(drivers, on=\"Driver_Id\")\n",
        "\n",
        "driver_result_v2 = driver_result[[\"Grid\", \"Position\", \"Points\", \"Name\"]]\n",
        "\n",
        "driver_result_v3 = pd.DataFrame(driver_result_v2.groupby(\"Name\")[\"Position\"].count().sort_values(ascending=False)\n",
        "                                .reset_index().rename(columns={\"Position\": \"Num_races\"}))\n",
        "\n",
        "driver_with_25_races = driver_result_v3[driver_result_v3[\"Num_races\"] > 25]\n",
        "\n",
        "driver_with_25_races_v2 = driver_result_v2.merge(driver_with_25_races, on=\"Name\", how=\"inner\")\n",
        "\n",
        "driver_avg = driver_with_25_races_v2.groupby(\"Name\", as_index=False)[[\"Grid\", \"Position\"]].mean()\\\n",
        "    .sort_values(\"Position\").head(10)\n",
        "\n",
        "print(driver_avg)\n",
        "\n",
        "driver_name = driver_avg[\"Name\"]\n",
        "avg_position = driver_avg[\"Position\"]\n",
        "avg_grid = driver_avg[\"Grid\"]\n",
        "\n",
        "plt.figure(figsize=(10, 6))\n",
        "plt.plot(driver_name, avg_position, label='Average Position')\n",
        "plt.plot(driver_name, avg_grid, label='Average Grid')\n",
        "plt.xlabel('Driver Name')\n",
        "plt.ylabel('Average')\n",
        "plt.title('Average Grid and Position for Top 10 Drivers')\n",
        "plt.xticks(rotation=45)\n",
        "plt.legend()\n",
        "plt.tight_layout()\n",
        "plt.show()"
      ],
      "metadata": {
        "id": "vYc8-QiKNKZF"
      },
      "execution_count": null,
      "outputs": []
    },
    {
      "cell_type": "code",
      "source": [
        "driver_result = results.merge(drivers, on=\"Driver_Id\")\n",
        "\n",
        "driver_result_v2 = driver_result[[\"Grid\", \"Position\", \"Points\", \"Name\"]]\n",
        "\n",
        "correlation = driver_result_v2['Grid'].corr(driver_result_v2['Position'])\n",
        "\n",
        "print(f\"Korelacja pomiędzy wartościami 'Grid' i 'Position': {correlation}\")"
      ],
      "metadata": {
        "id": "VksaO50ONTD0"
      },
      "execution_count": null,
      "outputs": []
    },
    {
      "cell_type": "code",
      "source": [
        "driver_result = results.merge(drivers, on=\"Driver_Id\")\n",
        "\n",
        "driver_result_v2 = driver_result[[\"Grid\", \"Position\", \"Points\", \"Name\"]]\n",
        "\n",
        "driver_result_v3 = pd.DataFrame(driver_result_v2.groupby(\"Name\")[\"Position\"].count().sort_values(ascending=False)\n",
        "                                .reset_index().rename(columns={\"Position\": \"Num_races\"}))\n",
        "\n",
        "driver_with_25_races = driver_result_v3[driver_result_v3[\"Num_races\"] > 25]\n",
        "\n",
        "driver_with_25_races_v2 = driver_result_v2.merge(driver_with_25_races, on=\"Name\", how=\"inner\")\n",
        "\n",
        "driver_correlations = driver_with_25_races_v2.groupby('Name').apply(lambda x: x['Grid']\n",
        "                                                                    .corr(x['Position'])).reset_index()\n",
        "driver_correlations_sort = driver_correlations.rename(columns={0: \"Correlation\"})\\\n",
        "    .sort_values(\"Correlation\", ascending=False)\n",
        "\n",
        "print(driver_correlations_sort)"
      ],
      "metadata": {
        "id": "fGPvVqaINZTn"
      },
      "execution_count": null,
      "outputs": []
    },
    {
      "cell_type": "code",
      "source": [
        "results_dr = results.merge(drivers, on=\"Driver_Id\")\n",
        "results_dr_c = results_dr[[\"Result_Id\", \"Wins\", \"Pole_Position\", \"Name\"]]\n",
        "results_dr_gr = results_dr_c.groupby(\"Name\", as_index=False).agg({\n",
        "    \"Wins\": \"sum\",\n",
        "    \"Pole_Position\": \"sum\",\n",
        "    \"Result_Id\": \"count\"\n",
        "}).rename(columns={\"Name\": \"Driver\", \"Result_Id\": \"Total_Races\"})\\\n",
        "    .query(\"Total_Races > 20 and Wins > 12 and Pole_Position > 12\")\n",
        "\n",
        "results_dr_gr[\"Win_Percent\"] = results_dr_gr[\"Wins\"] / results_dr_gr[\"Total_Races\"] * 100\n",
        "results_dr_gr[\"PP_Percent\"] = results_dr_gr[\"Pole_Position\"] / results_dr_gr[\"Total_Races\"] * 100\n",
        "\n",
        "driver_Win_PP_percent = results_dr_gr[[\"Driver\", \"Win_Percent\", \"PP_Percent\"]]\\\n",
        "    .sort_values(\"Win_Percent\", ascending=False).set_index(\"Driver\")\n",
        "\n",
        "driver_Win_PP_percent.plot.barh()\n",
        "plt.title('Percentage of race wins and qualifying among top drivers', fontsize=16)\n",
        "plt.legend()\n",
        "plt.grid(True, linestyle='--', linewidth=0.5, alpha=0.7, color='black')\n",
        "plt.show()"
      ],
      "metadata": {
        "id": "wuOF0G8-Nol3"
      },
      "execution_count": null,
      "outputs": []
    },
    {
      "cell_type": "code",
      "source": [
        "driver_result = results.merge(drivers, on=\"Driver_Id\")\n",
        "\n",
        "driver_result_v2 = driver_result[[\"Points\", \"Name\", \"Result_Id\", \"Wins\"]]\n",
        "\n",
        "driver_result_v3 = driver_result_v2.groupby(\"Name\", as_index=False).agg({\n",
        "    \"Points\": \"sum\",\n",
        "    \"Wins\": \"sum\",\n",
        "    \"Result_Id\": \"count\"\n",
        "}).rename(columns={\"Name\": \"Driver\", \"Result_Id\": \"Total_Races\"}).query(\"Wins > 20\")\n",
        "\n",
        "driver_result_v3[\"Points_per_race\"] = driver_result_v3[\"Points\"] / driver_result_v3[\"Total_Races\"]\n",
        "\n",
        "driver_points_per_race = driver_result_v3[[\"Driver\", \"Points_per_race\"]]\\\n",
        "    .sort_values(\"Points_per_race\").set_index(\"Driver\")\n",
        "\n",
        "fig, ax = plt.subplots(figsize=(12, 8))\n",
        "driver_points_per_race.plot(kind='barh', ax=ax)\n",
        "plt.title('Driver Points Per Race', fontsize=16)\n",
        "plt.ylabel(\"Driver\", fontsize=14)\n",
        "plt.legend()\n",
        "plt.grid(axis=\"x\", linestyle='--', linewidth=0.5, alpha=0.7, color='black')\n",
        "plt.bar_label(ax.containers[0], fmt='%.2f', fontsize=8, color=\"green\")\n",
        "plt.show()\n"
      ],
      "metadata": {
        "id": "wPqh6BwxN-LR"
      },
      "execution_count": null,
      "outputs": []
    },
    {
      "cell_type": "code",
      "source": [
        "DNF_2 = status[status[\"Status\"].str.contains('Lap|Finished|Did not qualify|Did not prequalify')]\n",
        "\n",
        "dnf_3 = pd.concat([status, DNF_2]).drop_duplicates(keep=False)\n",
        "\n",
        "DNF = dnf_3.merge(results, on=\"Status_Id\").groupby(\"Status\")[\"Status_Id\"]\\\n",
        "    .count().sort_values(ascending=False).reset_index().head(8)\n",
        "\n",
        "num = DNF[\"Status_Id\"]\n",
        "Type = DNF[\"Status\"]\n",
        "\n",
        "def autopct_format(values):\n",
        "    def my_format(pct):\n",
        "        total = sum(values)\n",
        "        val = int(round(pct * total/100,0))\n",
        "        return '{v:d}'.format(v=val)\n",
        "    return my_format\n",
        "\n",
        "plt.pie(num,\n",
        "       labels = Type,\n",
        "       explode = (0.050,0,0,0,0,0,0,0),\n",
        "       autopct = autopct_format(num))\n",
        "\n",
        "plt.show()"
      ],
      "metadata": {
        "id": "ZDjtcKvrONhs"
      },
      "execution_count": null,
      "outputs": []
    },
    {
      "cell_type": "code",
      "source": [
        "# Tworzenie DataFrame łączącego 'results' i 'drivers' na podstawie 'Driver_Id'\n",
        "driver_results = results.merge(drivers, on='Driver_Id')\n",
        "\n",
        "# Liczenie liczby zwycięstw dla 5 najlepszych kierowców, następnie połączenie otrzymanego df z 'drivers', 'results' i 'status'\n",
        "Top_5_driver = pd.DataFrame(driver_results.groupby('Driver_Id')['Wins'].count().sort_values(ascending=False).head(5))\\\n",
        "    .merge(drivers, on=\"Driver_Id\").merge(results, on=\"Driver_Id\").merge(status, on=\"Status_Id\")\n",
        "\n",
        "# Filtrowanie'Top_5_driver' tylko dla statusów 'Lap','Finished' i 'Did not qualify'\n",
        "Not_DNF = Top_5_driver[Top_5_driver['Status'].str.contains('Lap|Finished|Did not qualify|Did not prequalify')]\n",
        "\n",
        "# Filtrowanie wyników, które nie zawierają statusów 'Lap','Finished' i 'Did not qualify'\n",
        "DNF = pd.concat([Top_5_driver, Not_DNF]).drop_duplicates(keep=False)\n",
        "\n",
        "# Grupowanie wyników ze względu na 'Name' i 'Status', liczenie według 'Result_Id'\n",
        "DNF_GROUP = DNF.groupby(['Name', 'Status'])['Result_Id'].count()\n",
        "\n",
        "# Wybór wartości \"Not_DNF\" z df 'status'\n",
        "Not_DNF_2 = status[status[\"Status\"].str.contains('Lap|Finished|Did not qualify|Did not prequalify')]\n",
        "\n",
        "# Wybór wartości, 'DNF' z df 'status'\n",
        "DNF_2 = pd.concat([status, Not_DNF_2]).drop_duplicates(keep=False)\n",
        "\n",
        "# Łączenie df 'DNF_2' z 'results' na podstawie 'Status_Id' i grupowanie według \"Status\"\n",
        "DNF_v2 = DNF_2.merge(results, on=\"Status_Id\").groupby(\"Status\")[\"Status_Id\"]\\\n",
        "    .count().sort_values(ascending=False).reset_index().head(8)\n",
        "\n",
        "# Wybór statusów z df 'DNF, które są zawarte również w df 'DNF_2\n",
        "DNF_Filter = DNF[DNF['Status'].isin(DNF_v2['Status'])]\n",
        "\n",
        "# Grupowanie według 'Name' i 'Status', a następnie liczenie według 'Result_Id'\n",
        "DNF_Final = DNF_Filter.groupby(['Name', 'Status'])['Result_Id'].count()\n",
        "\n",
        "# Tworzenie wykresu\n",
        "DNF_Final.unstack().plot.barh(stacked=True)\n",
        "plt.xlabel(\"Number_DNF\", fontsize=14)\n",
        "plt.ylabel(\"Driver\", fontsize=14)\n",
        "plt.title(\"The most common reasons for DNFs of the most successful drivers.\", fontsize=18)\n",
        "plt.legend(title=\"DNF Reason\", fontsize=12)\n",
        "plt.show()"
      ],
      "metadata": {
        "id": "EVot563oOdS1"
      },
      "execution_count": null,
      "outputs": []
    },
    {
      "cell_type": "code",
      "source": [
        "team_nationality = constructor.groupby(\"Nationality\")[\"Constructor_Id\"].count().sort_values(ascending=False) \\\n",
        "    .head(5).reset_index()\n",
        "\n",
        "Nationality = team_nationality[\"Nationality\"]\n",
        "Num_Constructor = team_nationality[\"Constructor_Id\"]\n",
        "\n",
        "\n",
        "def autopct_format(values):\n",
        "    def my_format(pct):\n",
        "        total = sum(values)\n",
        "        val = int(round(pct * total / 100, 0))\n",
        "        return '{v:d}'.format(v=val)\n",
        "    return my_format\n",
        "\n",
        "\n",
        "plt.pie(Num_Constructor,\n",
        "        labels=Nationality,\n",
        "        startangle=30,\n",
        "        explode=(0.010, 0.010, 0.010, 0.010, 0.010),\n",
        "        autopct=autopct_format(Num_Constructor))\n",
        "\n",
        "plt.show()"
      ],
      "metadata": {
        "id": "F-z2VjFOO7Wt"
      },
      "execution_count": null,
      "outputs": []
    },
    {
      "cell_type": "code",
      "source": [
        "constructor_result = results.merge(constructor, on=\"Constructor_Id\")\\\n",
        "        .groupby(\"Name_of_Constructor\")[[\"Wins\", \"Pole_Position\"]].sum().sort_values(\"Wins\", ascending=False).head(6)\n",
        "\n",
        "constructor_result.plot.barh()\n",
        "plt.title('Percentage of race wins and qualifying among top drivers', fontsize=16)\n",
        "plt.legend()\n",
        "plt.grid(True, linestyle='--', linewidth=0.5, alpha=0.7, color='black')\n",
        "plt.show()"
      ],
      "metadata": {
        "id": "_081mo6TPBXa"
      },
      "execution_count": null,
      "outputs": []
    },
    {
      "cell_type": "code",
      "source": [
        "constructor_points = results.merge(constructor, on=\"Constructor_Id\").groupby(\"Name_of_Constructor\")[\"Points\"]\\\n",
        "    .sum().sort_values(ascending=False).head(8)\n",
        "\n",
        "constructor_points.plot.barh()\n",
        "plt.show()"
      ],
      "metadata": {
        "id": "iOwnvCbdPHIy"
      },
      "execution_count": null,
      "outputs": []
    },
    {
      "cell_type": "code",
      "source": [
        "constructor_points = results.merge(constructor, on=\"Constructor_Id\")\\\n",
        "    .groupby(\"Name_of_Constructor\", as_index=False)\\\n",
        "    .agg({\n",
        "        \"Points\": \"sum\",\n",
        "        \"Race_Id\": lambda x: x.nunique()  # Zastosowanie metody nunique() dla zliczenia unikatowych wartości Race_Id\n",
        "    })\\\n",
        "    .rename(columns={\"Race_Id\": \"Unique_Race_Count\"})\\\n",
        "    .sort_values(\"Points\", ascending=False)\n",
        "\n",
        "Points = constructor_points[\"Points\"]\n",
        "Race_Num = constructor_points[\"Unique_Race_Count\"]\n",
        "Constructor = constructor_points[\"Name_of_Constructor\"]\n",
        "\n",
        "constructor_points[\"Points_per_race\"] = Points / Race_Num\n",
        "\n",
        "print(constructor_points)"
      ],
      "metadata": {
        "id": "jPoZ6kBlPMR-"
      },
      "execution_count": null,
      "outputs": []
    }
  ]
}